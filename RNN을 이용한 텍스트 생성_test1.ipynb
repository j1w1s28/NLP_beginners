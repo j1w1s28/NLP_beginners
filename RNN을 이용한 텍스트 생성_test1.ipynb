{
 "cells": [
  {
   "cell_type": "code",
   "execution_count": 1,
   "id": "06a9ac64",
   "metadata": {},
   "outputs": [],
   "source": [
    "import numpy as np\n",
    "from tensorflow.keras.preprocessing.text import Tokenizer\n",
    "from tensorflow.keras.preprocessing.sequence import pad_sequences\n",
    "from tensorflow.keras.utils import to_categorical"
   ]
  },
  {
   "cell_type": "code",
   "execution_count": 2,
   "id": "55bcef52",
   "metadata": {},
   "outputs": [],
   "source": [
    "text = \"\"\"경마장에 있는 말이 뛰고 있다\\n\n",
    "그의 말이 법이다\\n\n",
    "가는 말이 고와야 오는 말이 곱다\\n\"\"\""
   ]
  },
  {
   "cell_type": "markdown",
   "id": "615cd2f1",
   "metadata": {},
   "source": [
    "단어 집합을 생성하고 크기를 확인해보겠습니다. 단어 집합의 크기를 저장할 때는 케라스 토크나이저의 정수 인코딩은 인덱스가 1부터 시작하지만, 패딩을 위한 0을 고려하여 +1을 해줍니다."
   ]
  },
  {
   "cell_type": "code",
   "execution_count": 3,
   "id": "4cfdcb86",
   "metadata": {},
   "outputs": [
    {
     "name": "stdout",
     "output_type": "stream",
     "text": [
      "단어 집합의 크기 : 12\n"
     ]
    }
   ],
   "source": [
    "tokenizer = Tokenizer()\n",
    "tokenizer.fit_on_texts([text])\n",
    "vocab_size = len(tokenizer.word_index) + 1\n",
    "print('단어 집합의 크기 : %d' % vocab_size)"
   ]
  },
  {
   "cell_type": "code",
   "execution_count": 4,
   "id": "a33bc38c",
   "metadata": {},
   "outputs": [
    {
     "data": {
      "text/plain": [
       "{'말이': 1,\n",
       " '경마장에': 2,\n",
       " '있는': 3,\n",
       " '뛰고': 4,\n",
       " '있다': 5,\n",
       " '그의': 6,\n",
       " '법이다': 7,\n",
       " '가는': 8,\n",
       " '고와야': 9,\n",
       " '오는': 10,\n",
       " '곱다': 11}"
      ]
     },
     "execution_count": 4,
     "metadata": {},
     "output_type": "execute_result"
    }
   ],
   "source": [
    "tokenizer.word_index"
   ]
  },
  {
   "cell_type": "code",
   "execution_count": 5,
   "id": "9957f250",
   "metadata": {},
   "outputs": [
    {
     "name": "stdout",
     "output_type": "stream",
     "text": [
      "학습에 사용할 샘플의 개수: 11\n"
     ]
    }
   ],
   "source": [
    "#훈련데이터 생성\n",
    "sequences = list()\n",
    "for line in text.split('\\n'): # 줄바꿈 문자를 기준으로 문장 토큰화\n",
    "    encoded = tokenizer.texts_to_sequences([line])[0]\n",
    "    for i in range(1, len(encoded)):\n",
    "        sequence = encoded[:i+1]\n",
    "        sequences.append(sequence)\n",
    "\n",
    "print('학습에 사용할 샘플의 개수: %d' % len(sequences))"
   ]
  },
  {
   "cell_type": "code",
   "execution_count": 7,
   "id": "fcf87078",
   "metadata": {},
   "outputs": [
    {
     "data": {
      "text/plain": [
       "[[2, 3],\n",
       " [2, 3, 1],\n",
       " [2, 3, 1, 4],\n",
       " [2, 3, 1, 4, 5],\n",
       " [6, 1],\n",
       " [6, 1, 7],\n",
       " [8, 1],\n",
       " [8, 1, 9],\n",
       " [8, 1, 9, 10],\n",
       " [8, 1, 9, 10, 1],\n",
       " [8, 1, 9, 10, 1, 11]]"
      ]
     },
     "execution_count": 7,
     "metadata": {},
     "output_type": "execute_result"
    }
   ],
   "source": [
    "sequences"
   ]
  },
  {
   "cell_type": "markdown",
   "id": "551d6959",
   "metadata": {},
   "source": [
    "위의 데이터는 아직 레이블로 사용될 단어를 분리하지 않은 훈련 데이터입니다. [2, 3]은 [경마장에, 있는]에 해당되며 [2, 3, 1]은 [경마장에, 있는, 말이]에 해당됩니다. 전체 훈련 데이터에 대해서 맨 우측에 있는 단어에 대해서만 레이블로 분리해야 합니다.\n",
    "우선 전체 샘플에 대해서 길이를 일치시켜 줍니다. 가장 긴 샘플의 길이를 기준으로 합니다. 현재 육안으로 봤을 때, 길이가 가장 긴 샘플은 [8, 1, 9, 10, 1, 11]이고 길이는 6입니다. 이를 코드로는 다음과 같이 구할 수 있습니다."
   ]
  },
  {
   "cell_type": "code",
   "execution_count": 8,
   "id": "c42ed968",
   "metadata": {},
   "outputs": [
    {
     "name": "stdout",
     "output_type": "stream",
     "text": [
      "샘플의 최대 길이 : 6\n"
     ]
    }
   ],
   "source": [
    "max_len = max(len(l) for l in sequences) # 모든 샘플에서 길이가 가장 긴 샘플의 길이 출력\n",
    "print('샘플의 최대 길이 : {}'.format(max_len))"
   ]
  },
  {
   "cell_type": "code",
   "execution_count": 10,
   "id": "99b730ef",
   "metadata": {},
   "outputs": [],
   "source": [
    "#길이가 6으로 패딩\n",
    "sequences = pad_sequences(sequences, maxlen=max_len, padding='pre')"
   ]
  },
  {
   "cell_type": "markdown",
   "id": "0730fb88",
   "metadata": {},
   "source": [
    "pad_sequences()는 모든 샘플에 대해서 0을 사용하여 길이를 맞춰줍니다. \n",
    "maxlen의 값으로 6을 주면 모든 샘플의 길이를 6으로 맞춰주며, padding의 인자로 'pre'를 주면 길이가 6보다 짧은 샘플의 앞에 0으로 채웁니다. \n",
    "전체 훈련 데이터를 출력해봅니다."
   ]
  },
  {
   "cell_type": "code",
   "execution_count": 15,
   "id": "ce3533df",
   "metadata": {},
   "outputs": [
    {
     "data": {
      "text/plain": [
       "array([[ 0,  0,  0,  0,  2,  3],\n",
       "       [ 0,  0,  0,  2,  3,  1],\n",
       "       [ 0,  0,  2,  3,  1,  4],\n",
       "       [ 0,  2,  3,  1,  4,  5],\n",
       "       [ 0,  0,  0,  0,  6,  1],\n",
       "       [ 0,  0,  0,  6,  1,  7],\n",
       "       [ 0,  0,  0,  0,  8,  1],\n",
       "       [ 0,  0,  0,  8,  1,  9],\n",
       "       [ 0,  0,  8,  1,  9, 10],\n",
       "       [ 0,  8,  1,  9, 10,  1],\n",
       "       [ 8,  1,  9, 10,  1, 11]])"
      ]
     },
     "execution_count": 15,
     "metadata": {},
     "output_type": "execute_result"
    }
   ],
   "source": [
    "sequences"
   ]
  },
  {
   "cell_type": "code",
   "execution_count": null,
   "id": "6f013b07",
   "metadata": {},
   "outputs": [],
   "source": [
    "#마지막 단어 레이블로 지정"
   ]
  },
  {
   "cell_type": "code",
   "execution_count": 12,
   "id": "dd5baa94",
   "metadata": {},
   "outputs": [],
   "source": [
    "sequences = np.array(sequences)\n",
    "X = sequences[:,:-1]\n",
    "y = sequences[:,-1]"
   ]
  },
  {
   "cell_type": "code",
   "execution_count": 17,
   "id": "b7b11f78",
   "metadata": {
    "scrolled": true
   },
   "outputs": [
    {
     "data": {
      "text/plain": [
       "(array([[ 0,  0,  0,  0,  2],\n",
       "        [ 0,  0,  0,  2,  3],\n",
       "        [ 0,  0,  2,  3,  1],\n",
       "        [ 0,  2,  3,  1,  4],\n",
       "        [ 0,  0,  0,  0,  6],\n",
       "        [ 0,  0,  0,  6,  1],\n",
       "        [ 0,  0,  0,  0,  8],\n",
       "        [ 0,  0,  0,  8,  1],\n",
       "        [ 0,  0,  8,  1,  9],\n",
       "        [ 0,  8,  1,  9, 10],\n",
       "        [ 8,  1,  9, 10,  1]]),\n",
       " array([ 3,  1,  4,  5,  1,  7,  1,  9, 10,  1, 11]))"
      ]
     },
     "execution_count": 17,
     "metadata": {},
     "output_type": "execute_result"
    }
   ],
   "source": [
    "X,y"
   ]
  },
  {
   "cell_type": "code",
   "execution_count": 21,
   "id": "5aeea25a",
   "metadata": {},
   "outputs": [],
   "source": [
    "y = to_categorical(y, num_classes=vocab_size)"
   ]
  },
  {
   "cell_type": "markdown",
   "id": "6742e487",
   "metadata": {},
   "source": [
    "# 모델 설계"
   ]
  },
  {
   "cell_type": "code",
   "execution_count": 19,
   "id": "dc9def22",
   "metadata": {},
   "outputs": [],
   "source": [
    "from tensorflow.keras.models import Sequential\n",
    "from tensorflow.keras.layers import Embedding, Dense, SimpleRNN"
   ]
  },
  {
   "cell_type": "markdown",
   "id": "a69d8edb",
   "metadata": {},
   "source": [
    "하이퍼파라미터인 임베딩 벡터의 차원은 10, 은닉 상태의 크기는 32입니다.\n",
    "<br>다 대 일 구조의 RNN을 사용합니다. \n",
    "<br>전결합층(Fully Connected Layer)을 출력층으로 단어 집합 크기만큼의 뉴런을 배치하여 모델을 설계합니다.\n",
    "<br>해당 모델은 마지막 시점에서 모든 가능한 단어 중 하나의 단어를 예측하는 다중 클래스 분류 문제를 수행하는 모델입니다. \n",
    "<br>다중 클래스 분류 문제의 경우, 출력층에 소프트맥스 회귀를 사용해야 하므로 활성화 함수로는 소프트맥스 함수를 사용하고, 손실 함수로 크로스 엔트로피 함수를 사용하여 200 에포크를 수행합니다"
   ]
  },
  {
   "cell_type": "code",
   "execution_count": 22,
   "id": "857f7fb7",
   "metadata": {},
   "outputs": [
    {
     "name": "stdout",
     "output_type": "stream",
     "text": [
      "Epoch 1/200\n",
      "1/1 - 1s - loss: 2.4671 - accuracy: 0.2727 - 1s/epoch - 1s/step\n",
      "Epoch 2/200\n",
      "1/1 - 0s - loss: 2.4481 - accuracy: 0.2727 - 4ms/epoch - 4ms/step\n",
      "Epoch 3/200\n",
      "1/1 - 0s - loss: 2.4293 - accuracy: 0.2727 - 5ms/epoch - 5ms/step\n",
      "Epoch 4/200\n",
      "1/1 - 0s - loss: 2.4106 - accuracy: 0.1818 - 4ms/epoch - 4ms/step\n",
      "Epoch 5/200\n",
      "1/1 - 0s - loss: 2.3919 - accuracy: 0.2727 - 5ms/epoch - 5ms/step\n",
      "Epoch 6/200\n",
      "1/1 - 0s - loss: 2.3731 - accuracy: 0.2727 - 7ms/epoch - 7ms/step\n",
      "Epoch 7/200\n",
      "1/1 - 0s - loss: 2.3542 - accuracy: 0.2727 - 6ms/epoch - 6ms/step\n",
      "Epoch 8/200\n",
      "1/1 - 0s - loss: 2.3350 - accuracy: 0.4545 - 6ms/epoch - 6ms/step\n",
      "Epoch 9/200\n",
      "1/1 - 0s - loss: 2.3154 - accuracy: 0.4545 - 5ms/epoch - 5ms/step\n",
      "Epoch 10/200\n",
      "1/1 - 0s - loss: 2.2954 - accuracy: 0.4545 - 4ms/epoch - 4ms/step\n",
      "Epoch 11/200\n",
      "1/1 - 0s - loss: 2.2749 - accuracy: 0.4545 - 5ms/epoch - 5ms/step\n",
      "Epoch 12/200\n",
      "1/1 - 0s - loss: 2.2538 - accuracy: 0.4545 - 4ms/epoch - 4ms/step\n",
      "Epoch 13/200\n",
      "1/1 - 0s - loss: 2.2320 - accuracy: 0.4545 - 5ms/epoch - 5ms/step\n",
      "Epoch 14/200\n",
      "1/1 - 0s - loss: 2.2095 - accuracy: 0.4545 - 4ms/epoch - 4ms/step\n",
      "Epoch 15/200\n",
      "1/1 - 0s - loss: 2.1864 - accuracy: 0.4545 - 6ms/epoch - 6ms/step\n",
      "Epoch 16/200\n",
      "1/1 - 0s - loss: 2.1625 - accuracy: 0.3636 - 4ms/epoch - 4ms/step\n",
      "Epoch 17/200\n",
      "1/1 - 0s - loss: 2.1379 - accuracy: 0.3636 - 5ms/epoch - 5ms/step\n",
      "Epoch 18/200\n",
      "1/1 - 0s - loss: 2.1126 - accuracy: 0.4545 - 3ms/epoch - 3ms/step\n",
      "Epoch 19/200\n",
      "1/1 - 0s - loss: 2.0867 - accuracy: 0.4545 - 5ms/epoch - 5ms/step\n",
      "Epoch 20/200\n",
      "1/1 - 0s - loss: 2.0603 - accuracy: 0.4545 - 4ms/epoch - 4ms/step\n",
      "Epoch 21/200\n",
      "1/1 - 0s - loss: 2.0335 - accuracy: 0.4545 - 5ms/epoch - 5ms/step\n",
      "Epoch 22/200\n",
      "1/1 - 0s - loss: 2.0064 - accuracy: 0.4545 - 6ms/epoch - 6ms/step\n",
      "Epoch 23/200\n",
      "1/1 - 0s - loss: 1.9792 - accuracy: 0.4545 - 5ms/epoch - 5ms/step\n",
      "Epoch 24/200\n",
      "1/1 - 0s - loss: 1.9520 - accuracy: 0.4545 - 5ms/epoch - 5ms/step\n",
      "Epoch 25/200\n",
      "1/1 - 0s - loss: 1.9251 - accuracy: 0.4545 - 5ms/epoch - 5ms/step\n",
      "Epoch 26/200\n",
      "1/1 - 0s - loss: 1.8985 - accuracy: 0.4545 - 8ms/epoch - 8ms/step\n",
      "Epoch 27/200\n",
      "1/1 - 0s - loss: 1.8725 - accuracy: 0.4545 - 5ms/epoch - 5ms/step\n",
      "Epoch 28/200\n",
      "1/1 - 0s - loss: 1.8473 - accuracy: 0.4545 - 7ms/epoch - 7ms/step\n",
      "Epoch 29/200\n",
      "1/1 - 0s - loss: 1.8229 - accuracy: 0.4545 - 4ms/epoch - 4ms/step\n",
      "Epoch 30/200\n",
      "1/1 - 0s - loss: 1.7994 - accuracy: 0.4545 - 7ms/epoch - 7ms/step\n",
      "Epoch 31/200\n",
      "1/1 - 0s - loss: 1.7770 - accuracy: 0.4545 - 5ms/epoch - 5ms/step\n",
      "Epoch 32/200\n",
      "1/1 - 0s - loss: 1.7556 - accuracy: 0.4545 - 6ms/epoch - 6ms/step\n",
      "Epoch 33/200\n",
      "1/1 - 0s - loss: 1.7353 - accuracy: 0.4545 - 6ms/epoch - 6ms/step\n",
      "Epoch 34/200\n",
      "1/1 - 0s - loss: 1.7159 - accuracy: 0.4545 - 7ms/epoch - 7ms/step\n",
      "Epoch 35/200\n",
      "1/1 - 0s - loss: 1.6975 - accuracy: 0.4545 - 6ms/epoch - 6ms/step\n",
      "Epoch 36/200\n",
      "1/1 - 0s - loss: 1.6799 - accuracy: 0.4545 - 7ms/epoch - 7ms/step\n",
      "Epoch 37/200\n",
      "1/1 - 0s - loss: 1.6630 - accuracy: 0.4545 - 5ms/epoch - 5ms/step\n",
      "Epoch 38/200\n",
      "1/1 - 0s - loss: 1.6466 - accuracy: 0.4545 - 4ms/epoch - 4ms/step\n",
      "Epoch 39/200\n",
      "1/1 - 0s - loss: 1.6306 - accuracy: 0.4545 - 5ms/epoch - 5ms/step\n",
      "Epoch 40/200\n",
      "1/1 - 0s - loss: 1.6150 - accuracy: 0.4545 - 5ms/epoch - 5ms/step\n",
      "Epoch 41/200\n",
      "1/1 - 0s - loss: 1.5994 - accuracy: 0.4545 - 8ms/epoch - 8ms/step\n",
      "Epoch 42/200\n",
      "1/1 - 0s - loss: 1.5839 - accuracy: 0.4545 - 5ms/epoch - 5ms/step\n",
      "Epoch 43/200\n",
      "1/1 - 0s - loss: 1.5683 - accuracy: 0.4545 - 7ms/epoch - 7ms/step\n",
      "Epoch 44/200\n",
      "1/1 - 0s - loss: 1.5525 - accuracy: 0.4545 - 5ms/epoch - 5ms/step\n",
      "Epoch 45/200\n",
      "1/1 - 0s - loss: 1.5365 - accuracy: 0.4545 - 8ms/epoch - 8ms/step\n",
      "Epoch 46/200\n",
      "1/1 - 0s - loss: 1.5201 - accuracy: 0.5455 - 6ms/epoch - 6ms/step\n",
      "Epoch 47/200\n",
      "1/1 - 0s - loss: 1.5035 - accuracy: 0.5455 - 4ms/epoch - 4ms/step\n",
      "Epoch 48/200\n",
      "1/1 - 0s - loss: 1.4865 - accuracy: 0.5455 - 4ms/epoch - 4ms/step\n",
      "Epoch 49/200\n",
      "1/1 - 0s - loss: 1.4692 - accuracy: 0.5455 - 5ms/epoch - 5ms/step\n",
      "Epoch 50/200\n",
      "1/1 - 0s - loss: 1.4517 - accuracy: 0.5455 - 4ms/epoch - 4ms/step\n",
      "Epoch 51/200\n",
      "1/1 - 0s - loss: 1.4340 - accuracy: 0.5455 - 6ms/epoch - 6ms/step\n",
      "Epoch 52/200\n",
      "1/1 - 0s - loss: 1.4162 - accuracy: 0.5455 - 7ms/epoch - 7ms/step\n",
      "Epoch 53/200\n",
      "1/1 - 0s - loss: 1.3983 - accuracy: 0.5455 - 4ms/epoch - 4ms/step\n",
      "Epoch 54/200\n",
      "1/1 - 0s - loss: 1.3804 - accuracy: 0.5455 - 8ms/epoch - 8ms/step\n",
      "Epoch 55/200\n",
      "1/1 - 0s - loss: 1.3626 - accuracy: 0.5455 - 6ms/epoch - 6ms/step\n",
      "Epoch 56/200\n",
      "1/1 - 0s - loss: 1.3448 - accuracy: 0.5455 - 8ms/epoch - 8ms/step\n",
      "Epoch 57/200\n",
      "1/1 - 0s - loss: 1.3271 - accuracy: 0.5455 - 8ms/epoch - 8ms/step\n",
      "Epoch 58/200\n",
      "1/1 - 0s - loss: 1.3095 - accuracy: 0.5455 - 6ms/epoch - 6ms/step\n",
      "Epoch 59/200\n",
      "1/1 - 0s - loss: 1.2920 - accuracy: 0.5455 - 6ms/epoch - 6ms/step\n",
      "Epoch 60/200\n",
      "1/1 - 0s - loss: 1.2746 - accuracy: 0.5455 - 4ms/epoch - 4ms/step\n",
      "Epoch 61/200\n",
      "1/1 - 0s - loss: 1.2572 - accuracy: 0.5455 - 6ms/epoch - 6ms/step\n",
      "Epoch 62/200\n",
      "1/1 - 0s - loss: 1.2399 - accuracy: 0.5455 - 4ms/epoch - 4ms/step\n",
      "Epoch 63/200\n",
      "1/1 - 0s - loss: 1.2227 - accuracy: 0.6364 - 7ms/epoch - 7ms/step\n",
      "Epoch 64/200\n",
      "1/1 - 0s - loss: 1.2056 - accuracy: 0.6364 - 4ms/epoch - 4ms/step\n",
      "Epoch 65/200\n",
      "1/1 - 0s - loss: 1.1885 - accuracy: 0.6364 - 6ms/epoch - 6ms/step\n",
      "Epoch 66/200\n",
      "1/1 - 0s - loss: 1.1716 - accuracy: 0.6364 - 5ms/epoch - 5ms/step\n",
      "Epoch 67/200\n",
      "1/1 - 0s - loss: 1.1547 - accuracy: 0.6364 - 6ms/epoch - 6ms/step\n",
      "Epoch 68/200\n",
      "1/1 - 0s - loss: 1.1380 - accuracy: 0.6364 - 6ms/epoch - 6ms/step\n",
      "Epoch 69/200\n",
      "1/1 - 0s - loss: 1.1214 - accuracy: 0.6364 - 7ms/epoch - 7ms/step\n",
      "Epoch 70/200\n",
      "1/1 - 0s - loss: 1.1050 - accuracy: 0.6364 - 5ms/epoch - 5ms/step\n",
      "Epoch 71/200\n",
      "1/1 - 0s - loss: 1.0886 - accuracy: 0.7273 - 8ms/epoch - 8ms/step\n",
      "Epoch 72/200\n",
      "1/1 - 0s - loss: 1.0725 - accuracy: 0.7273 - 4ms/epoch - 4ms/step\n",
      "Epoch 73/200\n",
      "1/1 - 0s - loss: 1.0564 - accuracy: 0.7273 - 7ms/epoch - 7ms/step\n",
      "Epoch 74/200\n",
      "1/1 - 0s - loss: 1.0405 - accuracy: 0.7273 - 4ms/epoch - 4ms/step\n",
      "Epoch 75/200\n",
      "1/1 - 0s - loss: 1.0248 - accuracy: 0.7273 - 7ms/epoch - 7ms/step\n",
      "Epoch 76/200\n",
      "1/1 - 0s - loss: 1.0093 - accuracy: 0.7273 - 6ms/epoch - 6ms/step\n",
      "Epoch 77/200\n",
      "1/1 - 0s - loss: 0.9939 - accuracy: 0.7273 - 5ms/epoch - 5ms/step\n",
      "Epoch 78/200\n",
      "1/1 - 0s - loss: 0.9787 - accuracy: 0.7273 - 4ms/epoch - 4ms/step\n",
      "Epoch 79/200\n",
      "1/1 - 0s - loss: 0.9637 - accuracy: 0.7273 - 5ms/epoch - 5ms/step\n",
      "Epoch 80/200\n",
      "1/1 - 0s - loss: 0.9488 - accuracy: 0.7273 - 5ms/epoch - 5ms/step\n",
      "Epoch 81/200\n",
      "1/1 - 0s - loss: 0.9341 - accuracy: 0.7273 - 5ms/epoch - 5ms/step\n",
      "Epoch 82/200\n",
      "1/1 - 0s - loss: 0.9195 - accuracy: 0.7273 - 6ms/epoch - 6ms/step\n",
      "Epoch 83/200\n",
      "1/1 - 0s - loss: 0.9051 - accuracy: 0.7273 - 5ms/epoch - 5ms/step\n",
      "Epoch 84/200\n",
      "1/1 - 0s - loss: 0.8909 - accuracy: 0.7273 - 4ms/epoch - 4ms/step\n",
      "Epoch 85/200\n",
      "1/1 - 0s - loss: 0.8768 - accuracy: 0.7273 - 5ms/epoch - 5ms/step\n",
      "Epoch 86/200\n",
      "1/1 - 0s - loss: 0.8630 - accuracy: 0.7273 - 4ms/epoch - 4ms/step\n",
      "Epoch 87/200\n",
      "1/1 - 0s - loss: 0.8492 - accuracy: 0.7273 - 4ms/epoch - 4ms/step\n",
      "Epoch 88/200\n",
      "1/1 - 0s - loss: 0.8357 - accuracy: 0.7273 - 4ms/epoch - 4ms/step\n",
      "Epoch 89/200\n",
      "1/1 - 0s - loss: 0.8223 - accuracy: 0.7273 - 5ms/epoch - 5ms/step\n",
      "Epoch 90/200\n",
      "1/1 - 0s - loss: 0.8092 - accuracy: 0.7273 - 3ms/epoch - 3ms/step\n",
      "Epoch 91/200\n",
      "1/1 - 0s - loss: 0.7962 - accuracy: 0.7273 - 6ms/epoch - 6ms/step\n",
      "Epoch 92/200\n",
      "1/1 - 0s - loss: 0.7834 - accuracy: 0.8182 - 4ms/epoch - 4ms/step\n",
      "Epoch 93/200\n",
      "1/1 - 0s - loss: 0.7707 - accuracy: 0.8182 - 6ms/epoch - 6ms/step\n",
      "Epoch 94/200\n",
      "1/1 - 0s - loss: 0.7583 - accuracy: 0.8182 - 5ms/epoch - 5ms/step\n",
      "Epoch 95/200\n",
      "1/1 - 0s - loss: 0.7461 - accuracy: 0.8182 - 7ms/epoch - 7ms/step\n",
      "Epoch 96/200\n",
      "1/1 - 0s - loss: 0.7341 - accuracy: 0.8182 - 6ms/epoch - 6ms/step\n",
      "Epoch 97/200\n",
      "1/1 - 0s - loss: 0.7223 - accuracy: 0.8182 - 7ms/epoch - 7ms/step\n",
      "Epoch 98/200\n",
      "1/1 - 0s - loss: 0.7107 - accuracy: 0.8182 - 4ms/epoch - 4ms/step\n",
      "Epoch 99/200\n",
      "1/1 - 0s - loss: 0.6993 - accuracy: 0.8182 - 6ms/epoch - 6ms/step\n",
      "Epoch 100/200\n",
      "1/1 - 0s - loss: 0.6880 - accuracy: 0.8182 - 5ms/epoch - 5ms/step\n",
      "Epoch 101/200\n",
      "1/1 - 0s - loss: 0.6770 - accuracy: 0.8182 - 7ms/epoch - 7ms/step\n",
      "Epoch 102/200\n",
      "1/1 - 0s - loss: 0.6662 - accuracy: 0.8182 - 5ms/epoch - 5ms/step\n",
      "Epoch 103/200\n",
      "1/1 - 0s - loss: 0.6555 - accuracy: 0.8182 - 6ms/epoch - 6ms/step\n",
      "Epoch 104/200\n",
      "1/1 - 0s - loss: 0.6451 - accuracy: 0.8182 - 4ms/epoch - 4ms/step\n"
     ]
    },
    {
     "name": "stdout",
     "output_type": "stream",
     "text": [
      "Epoch 105/200\n",
      "1/1 - 0s - loss: 0.6348 - accuracy: 0.8182 - 4ms/epoch - 4ms/step\n",
      "Epoch 106/200\n",
      "1/1 - 0s - loss: 0.6247 - accuracy: 0.8182 - 4ms/epoch - 4ms/step\n",
      "Epoch 107/200\n",
      "1/1 - 0s - loss: 0.6148 - accuracy: 0.8182 - 3ms/epoch - 3ms/step\n",
      "Epoch 108/200\n",
      "1/1 - 0s - loss: 0.6051 - accuracy: 0.8182 - 6ms/epoch - 6ms/step\n",
      "Epoch 109/200\n",
      "1/1 - 0s - loss: 0.5955 - accuracy: 0.8182 - 4ms/epoch - 4ms/step\n",
      "Epoch 110/200\n",
      "1/1 - 0s - loss: 0.5860 - accuracy: 0.8182 - 5ms/epoch - 5ms/step\n",
      "Epoch 111/200\n",
      "1/1 - 0s - loss: 0.5768 - accuracy: 0.8182 - 4ms/epoch - 4ms/step\n",
      "Epoch 112/200\n",
      "1/1 - 0s - loss: 0.5676 - accuracy: 0.8182 - 4ms/epoch - 4ms/step\n",
      "Epoch 113/200\n",
      "1/1 - 0s - loss: 0.5587 - accuracy: 0.8182 - 5ms/epoch - 5ms/step\n",
      "Epoch 114/200\n",
      "1/1 - 0s - loss: 0.5498 - accuracy: 0.9091 - 3ms/epoch - 3ms/step\n",
      "Epoch 115/200\n",
      "1/1 - 0s - loss: 0.5412 - accuracy: 0.9091 - 4ms/epoch - 4ms/step\n",
      "Epoch 116/200\n",
      "1/1 - 0s - loss: 0.5326 - accuracy: 0.9091 - 4ms/epoch - 4ms/step\n",
      "Epoch 117/200\n",
      "1/1 - 0s - loss: 0.5242 - accuracy: 0.9091 - 4ms/epoch - 4ms/step\n",
      "Epoch 118/200\n",
      "1/1 - 0s - loss: 0.5159 - accuracy: 0.9091 - 5ms/epoch - 5ms/step\n",
      "Epoch 119/200\n",
      "1/1 - 0s - loss: 0.5077 - accuracy: 0.9091 - 5ms/epoch - 5ms/step\n",
      "Epoch 120/200\n",
      "1/1 - 0s - loss: 0.4996 - accuracy: 0.9091 - 3ms/epoch - 3ms/step\n",
      "Epoch 121/200\n",
      "1/1 - 0s - loss: 0.4917 - accuracy: 0.9091 - 5ms/epoch - 5ms/step\n",
      "Epoch 122/200\n",
      "1/1 - 0s - loss: 0.4839 - accuracy: 0.9091 - 4ms/epoch - 4ms/step\n",
      "Epoch 123/200\n",
      "1/1 - 0s - loss: 0.4762 - accuracy: 0.9091 - 5ms/epoch - 5ms/step\n",
      "Epoch 124/200\n",
      "1/1 - 0s - loss: 0.4686 - accuracy: 0.9091 - 3ms/epoch - 3ms/step\n",
      "Epoch 125/200\n",
      "1/1 - 0s - loss: 0.4611 - accuracy: 0.9091 - 4ms/epoch - 4ms/step\n",
      "Epoch 126/200\n",
      "1/1 - 0s - loss: 0.4537 - accuracy: 0.9091 - 6ms/epoch - 6ms/step\n",
      "Epoch 127/200\n",
      "1/1 - 0s - loss: 0.4464 - accuracy: 0.9091 - 3ms/epoch - 3ms/step\n",
      "Epoch 128/200\n",
      "1/1 - 0s - loss: 0.4392 - accuracy: 0.9091 - 6ms/epoch - 6ms/step\n",
      "Epoch 129/200\n",
      "1/1 - 0s - loss: 0.4321 - accuracy: 0.9091 - 4ms/epoch - 4ms/step\n",
      "Epoch 130/200\n",
      "1/1 - 0s - loss: 0.4251 - accuracy: 0.9091 - 4ms/epoch - 4ms/step\n",
      "Epoch 131/200\n",
      "1/1 - 0s - loss: 0.4181 - accuracy: 0.9091 - 5ms/epoch - 5ms/step\n",
      "Epoch 132/200\n",
      "1/1 - 0s - loss: 0.4113 - accuracy: 0.9091 - 4ms/epoch - 4ms/step\n",
      "Epoch 133/200\n",
      "1/1 - 0s - loss: 0.4046 - accuracy: 0.9091 - 5ms/epoch - 5ms/step\n",
      "Epoch 134/200\n",
      "1/1 - 0s - loss: 0.3980 - accuracy: 0.9091 - 4ms/epoch - 4ms/step\n",
      "Epoch 135/200\n",
      "1/1 - 0s - loss: 0.3914 - accuracy: 0.9091 - 4ms/epoch - 4ms/step\n",
      "Epoch 136/200\n",
      "1/1 - 0s - loss: 0.3850 - accuracy: 0.9091 - 4ms/epoch - 4ms/step\n",
      "Epoch 137/200\n",
      "1/1 - 0s - loss: 0.3786 - accuracy: 0.9091 - 4ms/epoch - 4ms/step\n",
      "Epoch 138/200\n",
      "1/1 - 0s - loss: 0.3723 - accuracy: 0.9091 - 7ms/epoch - 7ms/step\n",
      "Epoch 139/200\n",
      "1/1 - 0s - loss: 0.3661 - accuracy: 0.9091 - 5ms/epoch - 5ms/step\n",
      "Epoch 140/200\n",
      "1/1 - 0s - loss: 0.3600 - accuracy: 0.9091 - 6ms/epoch - 6ms/step\n",
      "Epoch 141/200\n",
      "1/1 - 0s - loss: 0.3540 - accuracy: 0.9091 - 17ms/epoch - 17ms/step\n",
      "Epoch 142/200\n",
      "1/1 - 0s - loss: 0.3481 - accuracy: 0.9091 - 4ms/epoch - 4ms/step\n",
      "Epoch 143/200\n",
      "1/1 - 0s - loss: 0.3422 - accuracy: 0.9091 - 4ms/epoch - 4ms/step\n",
      "Epoch 144/200\n",
      "1/1 - 0s - loss: 0.3364 - accuracy: 0.9091 - 5ms/epoch - 5ms/step\n",
      "Epoch 145/200\n",
      "1/1 - 0s - loss: 0.3308 - accuracy: 0.9091 - 6ms/epoch - 6ms/step\n",
      "Epoch 146/200\n",
      "1/1 - 0s - loss: 0.3251 - accuracy: 0.9091 - 4ms/epoch - 4ms/step\n",
      "Epoch 147/200\n",
      "1/1 - 0s - loss: 0.3196 - accuracy: 0.9091 - 5ms/epoch - 5ms/step\n",
      "Epoch 148/200\n",
      "1/1 - 0s - loss: 0.3142 - accuracy: 0.9091 - 4ms/epoch - 4ms/step\n",
      "Epoch 149/200\n",
      "1/1 - 0s - loss: 0.3088 - accuracy: 0.9091 - 4ms/epoch - 4ms/step\n",
      "Epoch 150/200\n",
      "1/1 - 0s - loss: 0.3036 - accuracy: 0.9091 - 4ms/epoch - 4ms/step\n",
      "Epoch 151/200\n",
      "1/1 - 0s - loss: 0.2984 - accuracy: 0.9091 - 4ms/epoch - 4ms/step\n",
      "Epoch 152/200\n",
      "1/1 - 0s - loss: 0.2932 - accuracy: 0.9091 - 6ms/epoch - 6ms/step\n",
      "Epoch 153/200\n",
      "1/1 - 0s - loss: 0.2882 - accuracy: 0.9091 - 4ms/epoch - 4ms/step\n",
      "Epoch 154/200\n",
      "1/1 - 0s - loss: 0.2832 - accuracy: 0.9091 - 6ms/epoch - 6ms/step\n",
      "Epoch 155/200\n",
      "1/1 - 0s - loss: 0.2783 - accuracy: 0.9091 - 4ms/epoch - 4ms/step\n",
      "Epoch 156/200\n",
      "1/1 - 0s - loss: 0.2735 - accuracy: 0.9091 - 4ms/epoch - 4ms/step\n",
      "Epoch 157/200\n",
      "1/1 - 0s - loss: 0.2688 - accuracy: 0.9091 - 5ms/epoch - 5ms/step\n",
      "Epoch 158/200\n",
      "1/1 - 0s - loss: 0.2641 - accuracy: 0.9091 - 3ms/epoch - 3ms/step\n",
      "Epoch 159/200\n",
      "1/1 - 0s - loss: 0.2595 - accuracy: 0.9091 - 5ms/epoch - 5ms/step\n",
      "Epoch 160/200\n",
      "1/1 - 0s - loss: 0.2550 - accuracy: 0.9091 - 4ms/epoch - 4ms/step\n",
      "Epoch 161/200\n",
      "1/1 - 0s - loss: 0.2506 - accuracy: 0.9091 - 3ms/epoch - 3ms/step\n",
      "Epoch 162/200\n",
      "1/1 - 0s - loss: 0.2462 - accuracy: 0.9091 - 4ms/epoch - 4ms/step\n",
      "Epoch 163/200\n",
      "1/1 - 0s - loss: 0.2419 - accuracy: 0.9091 - 4ms/epoch - 4ms/step\n",
      "Epoch 164/200\n",
      "1/1 - 0s - loss: 0.2377 - accuracy: 1.0000 - 5ms/epoch - 5ms/step\n",
      "Epoch 165/200\n",
      "1/1 - 0s - loss: 0.2335 - accuracy: 1.0000 - 3ms/epoch - 3ms/step\n",
      "Epoch 166/200\n",
      "1/1 - 0s - loss: 0.2294 - accuracy: 1.0000 - 5ms/epoch - 5ms/step\n",
      "Epoch 167/200\n",
      "1/1 - 0s - loss: 0.2254 - accuracy: 1.0000 - 4ms/epoch - 4ms/step\n",
      "Epoch 168/200\n",
      "1/1 - 0s - loss: 0.2214 - accuracy: 1.0000 - 4ms/epoch - 4ms/step\n",
      "Epoch 169/200\n",
      "1/1 - 0s - loss: 0.2175 - accuracy: 1.0000 - 8ms/epoch - 8ms/step\n",
      "Epoch 170/200\n",
      "1/1 - 0s - loss: 0.2137 - accuracy: 1.0000 - 5ms/epoch - 5ms/step\n",
      "Epoch 171/200\n",
      "1/1 - 0s - loss: 0.2100 - accuracy: 1.0000 - 5ms/epoch - 5ms/step\n",
      "Epoch 172/200\n",
      "1/1 - 0s - loss: 0.2063 - accuracy: 1.0000 - 5ms/epoch - 5ms/step\n",
      "Epoch 173/200\n",
      "1/1 - 0s - loss: 0.2026 - accuracy: 1.0000 - 5ms/epoch - 5ms/step\n",
      "Epoch 174/200\n",
      "1/1 - 0s - loss: 0.1991 - accuracy: 1.0000 - 4ms/epoch - 4ms/step\n",
      "Epoch 175/200\n",
      "1/1 - 0s - loss: 0.1956 - accuracy: 1.0000 - 4ms/epoch - 4ms/step\n",
      "Epoch 176/200\n",
      "1/1 - 0s - loss: 0.1921 - accuracy: 1.0000 - 4ms/epoch - 4ms/step\n",
      "Epoch 177/200\n",
      "1/1 - 0s - loss: 0.1887 - accuracy: 1.0000 - 4ms/epoch - 4ms/step\n",
      "Epoch 178/200\n",
      "1/1 - 0s - loss: 0.1854 - accuracy: 1.0000 - 4ms/epoch - 4ms/step\n",
      "Epoch 179/200\n",
      "1/1 - 0s - loss: 0.1821 - accuracy: 1.0000 - 4ms/epoch - 4ms/step\n",
      "Epoch 180/200\n",
      "1/1 - 0s - loss: 0.1789 - accuracy: 1.0000 - 5ms/epoch - 5ms/step\n",
      "Epoch 181/200\n",
      "1/1 - 0s - loss: 0.1758 - accuracy: 1.0000 - 5ms/epoch - 5ms/step\n",
      "Epoch 182/200\n",
      "1/1 - 0s - loss: 0.1727 - accuracy: 1.0000 - 4ms/epoch - 4ms/step\n",
      "Epoch 183/200\n",
      "1/1 - 0s - loss: 0.1697 - accuracy: 1.0000 - 3ms/epoch - 3ms/step\n",
      "Epoch 184/200\n",
      "1/1 - 0s - loss: 0.1667 - accuracy: 1.0000 - 3ms/epoch - 3ms/step\n",
      "Epoch 185/200\n",
      "1/1 - 0s - loss: 0.1638 - accuracy: 1.0000 - 4ms/epoch - 4ms/step\n",
      "Epoch 186/200\n",
      "1/1 - 0s - loss: 0.1609 - accuracy: 1.0000 - 7ms/epoch - 7ms/step\n",
      "Epoch 187/200\n",
      "1/1 - 0s - loss: 0.1581 - accuracy: 1.0000 - 4ms/epoch - 4ms/step\n",
      "Epoch 188/200\n",
      "1/1 - 0s - loss: 0.1553 - accuracy: 1.0000 - 6ms/epoch - 6ms/step\n",
      "Epoch 189/200\n",
      "1/1 - 0s - loss: 0.1526 - accuracy: 1.0000 - 4ms/epoch - 4ms/step\n",
      "Epoch 190/200\n",
      "1/1 - 0s - loss: 0.1500 - accuracy: 1.0000 - 6ms/epoch - 6ms/step\n",
      "Epoch 191/200\n",
      "1/1 - 0s - loss: 0.1474 - accuracy: 1.0000 - 4ms/epoch - 4ms/step\n",
      "Epoch 192/200\n",
      "1/1 - 0s - loss: 0.1448 - accuracy: 1.0000 - 5ms/epoch - 5ms/step\n",
      "Epoch 193/200\n",
      "1/1 - 0s - loss: 0.1423 - accuracy: 1.0000 - 5ms/epoch - 5ms/step\n",
      "Epoch 194/200\n",
      "1/1 - 0s - loss: 0.1398 - accuracy: 1.0000 - 6ms/epoch - 6ms/step\n",
      "Epoch 195/200\n",
      "1/1 - 0s - loss: 0.1374 - accuracy: 1.0000 - 5ms/epoch - 5ms/step\n",
      "Epoch 196/200\n",
      "1/1 - 0s - loss: 0.1350 - accuracy: 1.0000 - 6ms/epoch - 6ms/step\n",
      "Epoch 197/200\n",
      "1/1 - 0s - loss: 0.1327 - accuracy: 1.0000 - 5ms/epoch - 5ms/step\n",
      "Epoch 198/200\n",
      "1/1 - 0s - loss: 0.1304 - accuracy: 1.0000 - 5ms/epoch - 5ms/step\n",
      "Epoch 199/200\n",
      "1/1 - 0s - loss: 0.1282 - accuracy: 1.0000 - 4ms/epoch - 4ms/step\n",
      "Epoch 200/200\n",
      "1/1 - 0s - loss: 0.1260 - accuracy: 1.0000 - 4ms/epoch - 4ms/step\n"
     ]
    },
    {
     "data": {
      "text/plain": [
       "<keras.callbacks.History at 0x246b12d02b0>"
      ]
     },
     "execution_count": 22,
     "metadata": {},
     "output_type": "execute_result"
    }
   ],
   "source": [
    "embedding_dim = 10\n",
    "hidden_units = 32\n",
    "\n",
    "model = Sequential()\n",
    "model.add(Embedding(vocab_size, embedding_dim))\n",
    "model.add(SimpleRNN(hidden_units))\n",
    "model.add(Dense(vocab_size, activation='softmax'))\n",
    "model.compile(loss='categorical_crossentropy', optimizer='adam', metrics=['accuracy'])\n",
    "model.fit(X, y, epochs=200, verbose=2)"
   ]
  },
  {
   "cell_type": "markdown",
   "id": "05acf6d5",
   "metadata": {},
   "source": [
    "# test"
   ]
  },
  {
   "cell_type": "code",
   "execution_count": 23,
   "id": "76bc8eb1",
   "metadata": {},
   "outputs": [],
   "source": [
    "def sentence_generation(model, tokenizer, current_word, n): # 모델, 토크나이저, 현재 단어, 반복할 횟수\n",
    "    init_word = current_word\n",
    "    sentence = ''\n",
    "\n",
    "    # n번 반복\n",
    "    for _ in range(n):\n",
    "        # 현재 단어에 대한 정수 인코딩과 패딩\n",
    "        encoded = tokenizer.texts_to_sequences([current_word])[0]\n",
    "        encoded = pad_sequences([encoded], maxlen=5, padding='pre')\n",
    "        # 입력한 X(현재 단어)에 대해서 Y를 예측하고 Y(예측한 단어)를 result에 저장.\n",
    "        result = model.predict(encoded, verbose=0)\n",
    "        result = np.argmax(result, axis=1)\n",
    "\n",
    "        for word, index in tokenizer.word_index.items(): \n",
    "            # 만약 예측한 단어와 인덱스와 동일한 단어가 있다면 break\n",
    "            if index == result:\n",
    "                break\n",
    "\n",
    "        # 현재 단어 + ' ' + 예측 단어를 현재 단어로 변경\n",
    "        current_word = current_word + ' '  + word\n",
    "\n",
    "        # 예측 단어를 문장에 저장\n",
    "        sentence = sentence + ' ' + word\n",
    "\n",
    "    sentence = init_word + sentence\n",
    "    return sentence"
   ]
  },
  {
   "cell_type": "code",
   "execution_count": 28,
   "id": "eeb5e83f",
   "metadata": {},
   "outputs": [
    {
     "name": "stdout",
     "output_type": "stream",
     "text": [
      "경마장에 있는 말이\n"
     ]
    }
   ],
   "source": [
    "print(sentence_generation(model, tokenizer, '경마장에', 2))"
   ]
  },
  {
   "cell_type": "code",
   "execution_count": 25,
   "id": "257e0257",
   "metadata": {},
   "outputs": [
    {
     "name": "stdout",
     "output_type": "stream",
     "text": [
      "그의 말이 법이다\n"
     ]
    }
   ],
   "source": [
    "print(sentence_generation(model, tokenizer, '그의', 2))"
   ]
  },
  {
   "cell_type": "code",
   "execution_count": 26,
   "id": "4336af14",
   "metadata": {},
   "outputs": [
    {
     "name": "stdout",
     "output_type": "stream",
     "text": [
      "가는 말이 고와야 오는 말이 곱다\n"
     ]
    }
   ],
   "source": [
    "print(sentence_generation(model, tokenizer, '가는', 5))"
   ]
  },
  {
   "cell_type": "code",
   "execution_count": null,
   "id": "70ffd6df",
   "metadata": {},
   "outputs": [],
   "source": []
  }
 ],
 "metadata": {
  "kernelspec": {
   "display_name": "Python 3 (ipykernel)",
   "language": "python",
   "name": "python3"
  },
  "language_info": {
   "codemirror_mode": {
    "name": "ipython",
    "version": 3
   },
   "file_extension": ".py",
   "mimetype": "text/x-python",
   "name": "python",
   "nbconvert_exporter": "python",
   "pygments_lexer": "ipython3",
   "version": "3.8.13"
  }
 },
 "nbformat": 4,
 "nbformat_minor": 5
}
