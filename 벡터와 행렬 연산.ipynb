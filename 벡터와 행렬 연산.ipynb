{
 "cells": [
  {
   "cell_type": "code",
   "execution_count": 1,
   "id": "93021cb7",
   "metadata": {},
   "outputs": [],
   "source": [
    "import numpy as np\n"
   ]
  },
  {
   "cell_type": "code",
   "execution_count": 2,
   "id": "f8372ac7",
   "metadata": {},
   "outputs": [
    {
     "name": "stdout",
     "output_type": "stream",
     "text": [
      "텐서의 차원 : 0\n",
      "텐서의 크기(shape) : ()\n"
     ]
    }
   ],
   "source": [
    "d = np.array(5)\n",
    "print('텐서의 차원 :',d.ndim)\n",
    "print('텐서의 크기(shape) :',d.shape)"
   ]
  },
  {
   "cell_type": "code",
   "execution_count": 3,
   "id": "9ef4b6a8",
   "metadata": {},
   "outputs": [
    {
     "name": "stdout",
     "output_type": "stream",
     "text": [
      "텐서의 차원 : 2\n",
      "텐서의 크기(shape) : (3, 4)\n"
     ]
    }
   ],
   "source": [
    "# 3행 4열의 행렬\n",
    "d = np.array([[1, 2, 3, 4], [5, 6, 7, 8], [9, 10, 11, 12]])\n",
    "print('텐서의 차원 :',d.ndim)\n",
    "print('텐서의 크기(shape) :',d.shape)"
   ]
  },
  {
   "cell_type": "code",
   "execution_count": 4,
   "id": "dd279ea6",
   "metadata": {},
   "outputs": [
    {
     "name": "stdout",
     "output_type": "stream",
     "text": [
      "텐서의 차원 : 3\n",
      "텐서의 크기(shape) : (2, 3, 5)\n"
     ]
    }
   ],
   "source": [
    "d = np.array([\n",
    "            [[1, 2, 3, 4, 5], [6, 7, 8, 9, 10], [10, 11, 12, 13, 14]],\n",
    "            [[15, 16, 17, 18, 19], [19, 20, 21, 22, 23], [23, 24, 25, 26, 27]]\n",
    "            ])\n",
    "print('텐서의 차원 :',d.ndim)\n",
    "print('텐서의 크기(shape) :',d.shape)"
   ]
  },
  {
   "cell_type": "markdown",
   "id": "a6f3cd42",
   "metadata": {},
   "source": [
    "## 벡터와 행렬 기본 연산"
   ]
  },
  {
   "cell_type": "code",
   "execution_count": 7,
   "id": "14daf6ca",
   "metadata": {},
   "outputs": [
    {
     "name": "stdout",
     "output_type": "stream",
     "text": [
      "두 벡터의 합 : [9 6 8]\n",
      "두 벡터의 차 : [7 2 2]\n"
     ]
    }
   ],
   "source": [
    "A = np.array([8, 4, 5])\n",
    "B = np.array([1, 2, 3])\n",
    "print('두 벡터의 합 :',A+B)\n",
    "print('두 벡터의 차 :',A-B)"
   ]
  },
  {
   "cell_type": "code",
   "execution_count": 8,
   "id": "5b1357cc",
   "metadata": {},
   "outputs": [
    {
     "name": "stdout",
     "output_type": "stream",
     "text": [
      "두 행렬의 합 :\n",
      "[[15 26 37 48]\n",
      " [51 62 73 84]]\n",
      "두 행렬의 차 :\n",
      "[[ 5 14 23 32]\n",
      " [49 58 67 76]]\n"
     ]
    }
   ],
   "source": [
    "A = np.array([[10, 20, 30, 40], [50, 60, 70, 80]])\n",
    "B = np.array([[5, 6, 7, 8],[1, 2, 3, 4]])\n",
    "print('두 행렬의 합 :')\n",
    "print(A + B)\n",
    "print('두 행렬의 차 :')\n",
    "print(A - B)"
   ]
  },
  {
   "cell_type": "code",
   "execution_count": 10,
   "id": "84365470",
   "metadata": {},
   "outputs": [
    {
     "name": "stdout",
     "output_type": "stream",
     "text": [
      "두 벡터의 내적 : 32\n"
     ]
    }
   ],
   "source": [
    "A = np.array([1, 2, 3])\n",
    "B = np.array([4, 5, 6])\n",
    "print('두 벡터의 내적 :',np.dot(A, B))"
   ]
  },
  {
   "cell_type": "code",
   "execution_count": 11,
   "id": "3296bf9b",
   "metadata": {},
   "outputs": [
    {
     "name": "stdout",
     "output_type": "stream",
     "text": [
      "두 행렬의 행렬곱 :\n",
      "[[23 31]\n",
      " [34 46]]\n"
     ]
    }
   ],
   "source": [
    "A = np.array([[1, 3],[2, 4]])\n",
    "B = np.array([[5, 7],[6, 8]])\n",
    "print('두 행렬의 행렬곱 :')\n",
    "print(np.matmul(A, B))"
   ]
  }
 ],
 "metadata": {
  "kernelspec": {
   "display_name": "Python 3 (ipykernel)",
   "language": "python",
   "name": "python3"
  },
  "language_info": {
   "codemirror_mode": {
    "name": "ipython",
    "version": 3
   },
   "file_extension": ".py",
   "mimetype": "text/x-python",
   "name": "python",
   "nbconvert_exporter": "python",
   "pygments_lexer": "ipython3",
   "version": "3.8.13"
  }
 },
 "nbformat": 4,
 "nbformat_minor": 5
}
